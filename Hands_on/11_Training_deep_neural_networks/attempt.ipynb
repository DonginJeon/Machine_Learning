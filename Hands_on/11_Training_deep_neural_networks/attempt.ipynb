{
 "cells": [
  {
   "cell_type": "code",
   "execution_count": 1,
   "metadata": {},
   "outputs": [],
   "source": [
    "import matplotlib.pyplot as plt\n",
    "\n",
    "plt.rc('font', size=14)\n",
    "plt.rc('axes', labelsize=14, titlesize=14)\n",
    "plt.rc('legend', fontsize=14)\n",
    "plt.rc('xtick', labelsize=10)\n",
    "plt.rc('ytick', labelsize=10)\n",
    "\n",
    "import sys\n",
    "# 코랩의 경우 나눔 폰트를 설치합니다.\n",
    "if 'google.colab' in sys.modules:\n",
    "    !sudo apt-get -qq -y install fonts-nanum\n",
    "    import matplotlib.font_manager as fm\n",
    "    font_files = fm.findSystemFonts(fontpaths=['/usr/share/fonts/truetype/nanum'])\n",
    "    for fpath in font_files:\n",
    "        fm.fontManager.addfont(fpath)\n",
    "\n",
    "# 나눔 폰트를 사용합니다.\n",
    "import matplotlib\n",
    "\n",
    "matplotlib.rc('font', family='NanumBarunGothic')\n",
    "matplotlib.rcParams['axes.unicode_minus'] = False"
   ]
  },
  {
   "cell_type": "code",
   "execution_count": 5,
   "metadata": {},
   "outputs": [
    {
     "name": "stderr",
     "output_type": "stream",
     "text": [
      "findfont: Font family 'NanumBarunGothic' not found.\n",
      "findfont: Font family 'NanumBarunGothic' not found.\n",
      "findfont: Font family 'NanumBarunGothic' not found.\n",
      "findfont: Font family 'NanumBarunGothic' not found.\n",
      "findfont: Font family 'NanumBarunGothic' not found.\n",
      "findfont: Font family 'NanumBarunGothic' not found.\n",
      "findfont: Font family 'NanumBarunGothic' not found.\n",
      "findfont: Font family 'NanumBarunGothic' not found.\n",
      "findfont: Font family 'NanumBarunGothic' not found.\n",
      "findfont: Font family 'NanumBarunGothic' not found.\n",
      "findfont: Font family 'NanumBarunGothic' not found.\n",
      "findfont: Font family 'NanumBarunGothic' not found.\n",
      "findfont: Font family 'NanumBarunGothic' not found.\n",
      "findfont: Font family 'NanumBarunGothic' not found.\n",
      "findfont: Font family 'NanumBarunGothic' not found.\n",
      "findfont: Font family 'NanumBarunGothic' not found.\n",
      "findfont: Font family 'NanumBarunGothic' not found.\n",
      "findfont: Font family 'NanumBarunGothic' not found.\n",
      "findfont: Font family 'NanumBarunGothic' not found.\n",
      "findfont: Font family 'NanumBarunGothic' not found.\n",
      "findfont: Font family 'NanumBarunGothic' not found.\n",
      "findfont: Font family 'NanumBarunGothic' not found.\n",
      "findfont: Font family 'NanumBarunGothic' not found.\n",
      "findfont: Font family 'NanumBarunGothic' not found.\n",
      "findfont: Font family 'NanumBarunGothic' not found.\n",
      "findfont: Font family 'NanumBarunGothic' not found.\n",
      "findfont: Font family 'NanumBarunGothic' not found.\n",
      "findfont: Font family 'NanumBarunGothic' not found.\n",
      "findfont: Font family 'NanumBarunGothic' not found.\n",
      "findfont: Font family 'NanumBarunGothic' not found.\n",
      "findfont: Font family 'NanumBarunGothic' not found.\n",
      "findfont: Font family 'NanumBarunGothic' not found.\n"
     ]
    },
    {
     "data": {
      "image/png": "[encoded data removed]",
      "text/plain": [
       "<Figure size 640x480 with 1 Axes>"
      ]
     },
     "metadata": {},
     "output_type": "display_data"
    }
   ],
   "source": [
    "import numpy as np\n",
    "\n",
    "def sigmoid(z):\n",
    "    return 1 / (1 + np.exp(-z))\n",
    "\n",
    "z = np.linspace(-5, 5, 200)\n",
    "\n",
    "plt.plot([-5, 5], [0, 0], 'k-')\n",
    "plt.plot([-5, 5], [1, 1], 'k--')\n",
    "plt.plot([0, 0], [-0.2, 1.2], 'k-')\n",
    "plt.plot([-5, 5], [-3/4, 7/4], 'g--')\n",
    "plt.plot(z, sigmoid(z), \"b-\", linewidth=2,\n",
    "         label=r\"$\\sigma(z) = \\dfrac{1}{1+e^{-z}}$\")\n",
    "plt.show()"
   ]
  },
  {
   "cell_type": "code",
   "execution_count": 9,
   "metadata": {},
   "outputs": [],
   "source": [
    "import tensorflow as tf\n",
    "\n",
    "dense = tf.keras.layers.Dense(50, activation = \"relu\",\n",
    "                              kernel_initializer = \"he_normal\")"
   ]
  },
  {
   "cell_type": "code",
   "execution_count": 10,
   "metadata": {},
   "outputs": [],
   "source": [
    "he_avg_init = tf.keras.initializers.VarianceScaling(scale=2., mode=\"fan_avg\",\n",
    "                                                    distribution=\"uniform\")\n",
    "dense = tf.keras.layers.Dense(50, activation=\"sigmoid\",\n",
    "                              kernel_initializer=he_avg_init)"
   ]
  },
  {
   "cell_type": "code",
   "execution_count": 11,
   "metadata": {},
   "outputs": [
    {
     "name": "stderr",
     "output_type": "stream",
     "text": [
      "C:\\Users\\82107\\AppData\\Roaming\\Python\\Python311\\site-packages\\keras\\src\\layers\\activations\\leaky_relu.py:41: UserWarning: Argument `alpha` is deprecated. Use `negative_slope` instead.\n",
      "  warnings.warn(\n"
     ]
    }
   ],
   "source": [
    "leaky_relu = tf.keras.layers.LeakyReLU(alpha=0.2)  # 기본값 alpha=0.3\n",
    "dense = tf.keras.layers.Dense(50, activation=leaky_relu,\n",
    "                              kernel_initializer=\"he_normal\")"
   ]
  },
  {
   "cell_type": "code",
   "execution_count": 12,
   "metadata": {},
   "outputs": [],
   "source": [
    "dense = tf.keras.layers.Dense(50, activation=\"selu\",\n",
    "                              kernel_initializer=\"lecun_normal\")"
   ]
  },
  {
   "cell_type": "code",
   "execution_count": 13,
   "metadata": {},
   "outputs": [
    {
     "name": "stdout",
     "output_type": "stream",
     "text": [
      "Downloading data from https://storage.googleapis.com/tensorflow/tf-keras-datasets/train-labels-idx1-ubyte.gz\n",
      "\u001b[1m29515/29515\u001b[0m \u001b[32m━━━━━━━━━━━━━━━━━━━━\u001b[0m\u001b[37m\u001b[0m \u001b[1m0s\u001b[0m 1us/step\n",
      "Downloading data from https://storage.googleapis.com/tensorflow/tf-keras-datasets/train-images-idx3-ubyte.gz\n",
      "\u001b[1m26421880/26421880\u001b[0m \u001b[32m━━━━━━━━━━━━━━━━━━━━\u001b[0m\u001b[37m\u001b[0m \u001b[1m6s\u001b[0m 0us/step\n",
      "Downloading data from https://storage.googleapis.com/tensorflow/tf-keras-datasets/t10k-labels-idx1-ubyte.gz\n",
      "\u001b[1m5148/5148\u001b[0m \u001b[32m━━━━━━━━━━━━━━━━━━━━\u001b[0m\u001b[37m\u001b[0m \u001b[1m0s\u001b[0m 1us/step\n",
      "Downloading data from https://storage.googleapis.com/tensorflow/tf-keras-datasets/t10k-images-idx3-ubyte.gz\n",
      "\u001b[1m4422102/4422102\u001b[0m \u001b[32m━━━━━━━━━━━━━━━━━━━━\u001b[0m\u001b[37m\u001b[0m \u001b[1m2s\u001b[0m 0us/step\n"
     ]
    }
   ],
   "source": [
    "fashion_mnist = tf.keras.datasets.fashion_mnist.load_data()\n",
    "(X_train_full, y_train_full) , (X_test,y_test) = fashion_mnist\n",
    "X_train,y_train = X_train_full[:-5000],y_train_full[:-5000]\n",
    "X_valid, y_valid = X_train_full[-5000:], y_train_full[-5000:]\n",
    "X_train,X_valid,X_test = X_train / 255, X_valid / 255, X_test / 255"
   ]
  },
  {
   "cell_type": "code",
   "execution_count": 14,
   "metadata": {},
   "outputs": [],
   "source": [
    "class_names = [\"T-shirt/top\", \"Trouser\", \"Pullover\", \"Dress\", \"Coat\",\n",
    "               \"Sandal\", \"Shirt\", \"Sneaker\", \"Bag\", \"Ankle boot\"]"
   ]
  },
  {
   "cell_type": "code",
   "execution_count": 15,
   "metadata": {},
   "outputs": [],
   "source": [
    "pixel_means = X_train.mean(axis=0, keepdims=True)\n",
    "pixel_stds = X_train.std(axis=0, keepdims=True)\n",
    "X_train_scaled = (X_train - pixel_means) / pixel_stds\n",
    "X_valid_scaled = (X_valid - pixel_means) / pixel_stds\n",
    "X_test_scaled = (X_test - pixel_means) / pixel_stds"
   ]
  },
  {
   "cell_type": "code",
   "execution_count": 16,
   "metadata": {},
   "outputs": [
    {
     "data": {
      "text/plain": [
       "array([[[-0.00850527, -0.02275604, -0.03896751, ..., -0.05000659,\n",
       "         -0.03273251, -0.01376188],\n",
       "        [-0.01286145, -0.01833704, -0.03369925, ..., -0.08932867,\n",
       "         -0.05848995, -0.02901122],\n",
       "        [-0.01577607, -0.0257731 , -0.04552545, ..., -0.12880774,\n",
       "         -0.08673387, -0.05075351],\n",
       "        ...,\n",
       "        [-0.10002104, -0.16164459, -0.23368801, ..., -0.29681795,\n",
       "         -0.20850413, -0.11106574],\n",
       "        [-0.05651808, -0.10484704, -0.17791999, ..., -0.24209789,\n",
       "         -0.15473034, -0.07551387],\n",
       "        [-0.02516203, -0.04947936, -0.10253125, ..., -0.15669703,\n",
       "         -0.0895455 , -0.03384112]],\n",
       "\n",
       "       [[-0.00850527, -0.02275604, -0.03896751, ..., -0.05000659,\n",
       "         -0.03273251, -0.01376188],\n",
       "        [-0.01286145, -0.01833704, -0.03369925, ..., -0.08932867,\n",
       "         -0.05848995, -0.02901122],\n",
       "        [-0.01577607, -0.0257731 , -0.04552545, ..., -0.12880774,\n",
       "         -0.08673387, -0.05075351],\n",
       "        ...,\n",
       "        [-0.10002104, -0.16164459, -0.23368801, ..., -0.29681795,\n",
       "         -0.20850413, -0.11106574],\n",
       "        [-0.05651808, -0.10484704, -0.17791999, ..., -0.24209789,\n",
       "         -0.15473034, -0.07551387],\n",
       "        [-0.02516203, -0.04947936, -0.10253125, ..., -0.15669703,\n",
       "         -0.0895455 , -0.03384112]],\n",
       "\n",
       "       [[-0.00850527, -0.02275604, -0.03896751, ..., -0.05000659,\n",
       "         -0.03273251, -0.01376188],\n",
       "        [-0.01286145, -0.01833704, -0.03369925, ..., -0.08932867,\n",
       "         -0.05848995, -0.02901122],\n",
       "        [-0.01577607, -0.0257731 , -0.04552545, ..., -0.12880774,\n",
       "         -0.08673387, -0.05075351],\n",
       "        ...,\n",
       "        [-0.10002104, -0.16164459, -0.23368801, ..., -0.29681795,\n",
       "         -0.20850413, -0.11106574],\n",
       "        [-0.05651808, -0.10484704, -0.17791999, ..., -0.24209789,\n",
       "         -0.15473034, -0.07551387],\n",
       "        [-0.02516203, -0.04947936, -0.10253125, ..., -0.15669703,\n",
       "         -0.0895455 , -0.03384112]],\n",
       "\n",
       "       ...,\n",
       "\n",
       "       [[-0.00850527, -0.02275604, -0.03896751, ..., -0.05000659,\n",
       "         -0.03273251, -0.01376188],\n",
       "        [-0.01286145, -0.01833704, -0.03369925, ..., -0.08932867,\n",
       "         -0.05848995, -0.02901122],\n",
       "        [-0.01577607, -0.0257731 , -0.04552545, ..., -0.12880774,\n",
       "         -0.08673387, -0.05075351],\n",
       "        ...,\n",
       "        [-0.10002104, -0.16164459, -0.23368801, ..., -0.29681795,\n",
       "         -0.20850413, -0.11106574],\n",
       "        [-0.05651808, -0.10484704, -0.17791999, ..., -0.24209789,\n",
       "         -0.15473034, -0.07551387],\n",
       "        [-0.02516203, -0.04947936, -0.10253125, ..., -0.15669703,\n",
       "         -0.0895455 , -0.03384112]],\n",
       "\n",
       "       [[-0.00850527, -0.02275604, -0.03896751, ..., -0.05000659,\n",
       "         -0.03273251, -0.01376188],\n",
       "        [ 1.67943401, -0.01833704, -0.03369925, ..., -0.08932867,\n",
       "         -0.05848995, -0.02901122],\n",
       "        [-0.01577607, -0.0257731 , -0.04552545, ..., -0.12880774,\n",
       "         -0.08673387, -0.05075351],\n",
       "        ...,\n",
       "        [-0.10002104, -0.16164459, -0.23368801, ..., -0.29681795,\n",
       "         -0.20850413, -0.11106574],\n",
       "        [-0.05651808, -0.10484704, -0.17791999, ..., -0.24209789,\n",
       "         -0.15473034, -0.07551387],\n",
       "        [-0.02516203, -0.04947936, -0.10253125, ..., -0.15669703,\n",
       "         -0.0895455 , -0.03384112]],\n",
       "\n",
       "       [[-0.00850527, -0.02275604, -0.03896751, ..., -0.05000659,\n",
       "         -0.03273251, -0.01376188],\n",
       "        [-0.01286145, -0.01833704, -0.03369925, ..., -0.08932867,\n",
       "         -0.05848995, -0.02901122],\n",
       "        [-0.01577607, -0.0257731 , -0.04552545, ..., -0.12880774,\n",
       "         -0.08673387, -0.05075351],\n",
       "        ...,\n",
       "        [-0.10002104, -0.16164459, -0.23368801, ..., -0.29681795,\n",
       "         -0.20850413, -0.11106574],\n",
       "        [-0.05651808, -0.10484704, -0.17791999, ..., -0.24209789,\n",
       "         -0.15473034, -0.07551387],\n",
       "        [-0.02516203, -0.04947936, -0.10253125, ..., -0.15669703,\n",
       "         -0.0895455 , -0.03384112]]])"
      ]
     },
     "execution_count": 16,
     "metadata": {},
     "output_type": "execute_result"
    }
   ],
   "source": [
    "X_train_scaled"
   ]
  },
  {
   "cell_type": "code",
   "execution_count": null,
   "metadata": {},
   "outputs": [],
   "source": [
    "history = model.fit(X_train_scaled, y_train, epochs=5,\n",
    "                    validation_data=(X_valid_scaled, y_valid))"
   ]
  },
  {
   "cell_type": "code",
   "execution_count": 18,
   "metadata": {},
   "outputs": [
    {
     "name": "stdout",
     "output_type": "stream",
     "text": [
      "WARNING:tensorflow:From C:\\Users\\82107\\AppData\\Roaming\\Python\\Python311\\site-packages\\keras\\src\\backend\\common\\global_state.py:82: The name tf.reset_default_graph is deprecated. Please use tf.compat.v1.reset_default_graph instead.\n",
      "\n"
     ]
    }
   ],
   "source": [
    "# 추가 코드 - 이름 카운터를 지우고 랜덤 시드를 설정합니다.\n",
    "tf.keras.backend.clear_session()\n",
    "tf.random.set_seed(42)"
   ]
  },
  {
   "cell_type": "code",
   "execution_count": 19,
   "metadata": {},
   "outputs": [
    {
     "name": "stderr",
     "output_type": "stream",
     "text": [
      "C:\\Users\\82107\\AppData\\Roaming\\Python\\Python311\\site-packages\\keras\\src\\layers\\reshaping\\flatten.py:37: UserWarning: Do not pass an `input_shape`/`input_dim` argument to a layer. When using Sequential models, prefer using an `Input(shape)` object as the first layer in the model instead.\n",
      "  super().__init__(**kwargs)\n"
     ]
    }
   ],
   "source": [
    "model = tf.keras.Sequential([\n",
    "    tf.keras.layers.Flatten(input_shape=[28, 28]),\n",
    "    tf.keras.layers.BatchNormalization(),\n",
    "    tf.keras.layers.Dense(300, activation=\"relu\",\n",
    "                          kernel_initializer=\"he_normal\"),\n",
    "    tf.keras.layers.BatchNormalization(),\n",
    "    tf.keras.layers.Dense(100, activation=\"relu\",\n",
    "                          kernel_initializer=\"he_normal\"),\n",
    "    tf.keras.layers.BatchNormalization(),\n",
    "    tf.keras.layers.Dense(10, activation=\"softmax\")\n",
    "])"
   ]
  },
  {
   "cell_type": "code",
   "execution_count": null,
   "metadata": {},
   "outputs": [],
   "source": []
  }
 ],
 "metadata": {
  "kernelspec": {
   "display_name": "base",
   "language": "python",
   "name": "python3"
  },
  "language_info": {
   "codemirror_mode": {
    "name": "ipython",
    "version": 3
   },
   "file_extension": ".py",
   "mimetype": "text/x-python",
   "name": "python",
   "nbconvert_exporter": "python",
   "pygments_lexer": "ipython3",
   "version": "3.11.7"
  }
 },
 "nbformat": 4,
 "nbformat_minor": 2
}
