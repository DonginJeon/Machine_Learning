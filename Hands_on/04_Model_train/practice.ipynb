{
 "cells": [
  {
   "cell_type": "markdown",
   "metadata": {},
   "source": [
    "#1 \n",
    "\n",
    "- SVD\n",
    "- 배치 경사 하강법\n",
    "- 확률적 경사 하강법\n",
    "- 미니배치 경사 하강법"
   ]
  },
  {
   "cell_type": "markdown",
   "metadata": {},
   "source": [
    "#2\n",
    "- 경사하강법 알고리즘. 스테일이 다르면 전역 최소점까지 도닫ㄹ하는데 오래 걸리고 지역 최소점에 갇힐 수 있다."
   ]
  },
  {
   "cell_type": "markdown",
   "metadata": {},
   "source": [
    "#3\n",
    "- 로지스틱 회귀모델의 비용함수는 볼록함수이기에 지역 최솟값에 갇힐 가능성이 없음"
   ]
  },
  {
   "cell_type": "markdown",
   "metadata": {},
   "source": [
    "#4\n",
    "- 함수가 볼록함수이고 학습률이 크지 않으면 모든 경사 하강법 알고리즘이 전역 최솟값에 도달하고 비슷한 모델을 만듦"
   ]
  },
  {
   "cell_type": "markdown",
   "metadata": {},
   "source": [
    "#5 \n",
    "-과대적합되고 있다는 뜻으로 학습을 조기 종료해야함.\n",
    "- 딥러닝에서는 시간을 충분히 들이면 검증오차가 줄어듦"
   ]
  },
  {
   "cell_type": "markdown",
   "metadata": {},
   "source": [
    "#6\n",
    "- 확률적 경사 하강법이나, 미니배치 경사 하강법에서는 곡선이 매끄럽지 않기 떄문에 최솟값에 도달했는지 확인하기가 어렵습니다. 따라서 즉시 중단하는 것보다 , 검증 에러가 일정 시간 동안 최솟값보다 클 때 학습을 멈추고 검증 에러가 최소였을 때의 모델 파라미터로 되돌리는 것이 좋은 방법"
   ]
  },
  {
   "cell_type": "markdown",
   "metadata": {},
   "source": [
    "#7\n",
    "- 미니배치 경사하강법"
   ]
  },
  {
   "cell_type": "markdown",
   "metadata": {},
   "source": [
    "#8\n",
    "- 과대적합 문제가 발생!\n",
    "\n",
    " \n",
    "\n",
    "- 문제 해결 3가지 \n",
    "\n",
    "1. 훈련 세트를 추가하거나 \n",
    "2. 규제를 주거나  for 자유도 낮추기(라쏘, 릿지)\n",
    "3. 다항 차수를 낮춰줍니다. 자유도를 낮추면 과대적합이 줄어드니까요 "
   ]
  },
  {
   "cell_type": "markdown",
   "metadata": {},
   "source": [
    "#9 \n",
    "- 검증 오차가 비슷하고 둘다 오류가 높으면 과소적합일 가능성이 높음.\n",
    "과소적합이 높다는건 편향이 높은 모델!\n",
    "\n",
    " \n",
    "\n",
    "- 편향을 줄이기 위해 하이퍼파라미터 a를 줄여야한다."
   ]
  },
  {
   "cell_type": "markdown",
   "metadata": {},
   "source": [
    "#10\n",
    "- 릿지는 규제가 있기에 선형보다 좋음.\n",
    "- 라쏘회귀는 가중치를 0으로 만들기에 릿지를 활용\n",
    "- 특정 수가 데이터 셋보다 많은 경우, 특성 몇개의 상관관계가 높을 경우 라쏘보다 엘라스틱넷을 활용"
   ]
  },
  {
   "cell_type": "markdown",
   "metadata": {},
   "source": [
    "#11 \n",
    "- 배타적인 클래스가 아니기에 로지스틱이 더 적절할 것이라 판단"
   ]
  },
  {
   "cell_type": "markdown",
   "metadata": {},
   "source": [
    "#12"
   ]
  },
  {
   "cell_type": "code",
   "execution_count": 2,
   "metadata": {},
   "outputs": [
    {
     "data": {
      "text/plain": [
       "['data',\n",
       " 'target',\n",
       " 'frame',\n",
       " 'target_names',\n",
       " 'DESCR',\n",
       " 'feature_names',\n",
       " 'filename',\n",
       " 'data_module']"
      ]
     },
     "execution_count": 2,
     "metadata": {},
     "output_type": "execute_result"
    }
   ],
   "source": [
    "from sklearn.datasets import load_iris\n",
    "\n",
    "iris = load_iris(as_frame=True)\n",
    "list(iris)"
   ]
  },
  {
   "cell_type": "code",
   "execution_count": null,
   "metadata": {},
   "outputs": [],
   "source": []
  }
 ],
 "metadata": {
  "kernelspec": {
   "display_name": "base",
   "language": "python",
   "name": "python3"
  },
  "language_info": {
   "codemirror_mode": {
    "name": "ipython",
    "version": 3
   },
   "file_extension": ".py",
   "mimetype": "text/x-python",
   "name": "python",
   "nbconvert_exporter": "python",
   "pygments_lexer": "ipython3",
   "version": "3.11.7"
  }
 },
 "nbformat": 4,
 "nbformat_minor": 2
}
