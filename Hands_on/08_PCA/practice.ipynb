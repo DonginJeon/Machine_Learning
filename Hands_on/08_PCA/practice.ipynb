{
 "cells": [
  {
   "cell_type": "markdown",
   "metadata": {},
   "source": [
    "#1\n",
    "- 훈련알고리즘의 속도를 높이기 위해서\n",
    "- 메모리 공간 절약\n",
    "---\n",
    "- 성능 감소\n",
    "- 계산 비용이 높음\n",
    "- 머신러닝 파이프라인의 복잡도 증가\n",
    "- 변환된 데이터를 이해하기 어려운 경우가 많음.\n"
   ]
  },
  {
   "cell_type": "markdown",
   "metadata": {},
   "source": [
    "#2\n",
    "- 고차원 벡터는 일반적으로 서로 멀리 떨어져 있어서 과대적합의 위험이 큼"
   ]
  },
  {
   "cell_type": "markdown",
   "metadata": {},
   "source": [
    "#3 \n",
    "- 불가능"
   ]
  },
  {
   "cell_type": "markdown",
   "metadata": {},
   "source": [
    "#4\n",
    "- 비선형적이더라도 가능.\n",
    "- 불필요한 차원이 없다면 너무 많은 정보를 잃게 만듦"
   ]
  },
  {
   "cell_type": "markdown",
   "metadata": {},
   "source": [
    "#5\n",
    "- 기본 : 우선적으로 사용\n",
    "- 점진 : 대용량 데이터\n",
    "- 랜덤 : 차원의 크기를 크게 축소시킬때\n",
    "- 랜덤투영 : 매우 고차원 데이터셋\n"
   ]
  },
  {
   "cell_type": "markdown",
   "metadata": {},
   "source": []
  },
  {
   "cell_type": "markdown",
   "metadata": {},
   "source": []
  },
  {
   "cell_type": "markdown",
   "metadata": {},
   "source": []
  },
  {
   "cell_type": "code",
   "execution_count": null,
   "metadata": {},
   "outputs": [],
   "source": []
  }
 ],
 "metadata": {
  "language_info": {
   "name": "python"
  }
 },
 "nbformat": 4,
 "nbformat_minor": 2
}
